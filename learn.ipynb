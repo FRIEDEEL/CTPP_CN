{
 "cells": [
  {
   "cell_type": "code",
   "execution_count": 20,
   "metadata": {},
   "outputs": [],
   "source": [
    "import cairo"
   ]
  },
  {
   "cell_type": "markdown",
   "metadata": {},
   "source": [
    "### 创建Context对象\n",
    "`cairo.Context`对象是操作的核心，是分别追踪一个destinition、mask和source的抽象对象。\n",
    "大多数操作，包括各种verbs、各种path的定义，均是基于一个Context对象。\n",
    "\n",
    "一个`cairo.Context`对象需要一个`cairo.SVGSurface`对象作为`target`参数，后者是一个抽象的SVG画布，可以简单地理解为最终生成的svg文件的抽象。"
   ]
  },
  {
   "cell_type": "code",
   "execution_count": 21,
   "metadata": {},
   "outputs": [],
   "source": [
    "surface=cairo.SVGSurface(\"new.svg\",200,200)\n",
    "ctx=cairo.Context(surface)\n",
    "ctx.scale(200,200)"
   ]
  },
  {
   "cell_type": "markdown",
   "metadata": {},
   "source": []
  },
  {
   "cell_type": "code",
   "execution_count": 22,
   "metadata": {},
   "outputs": [],
   "source": [
    "ctx.set_source_rgb(0,0,0)\n",
    "\n",
    "ctx.save()\n",
    "ctx.push_group()\n",
    "\n",
    "ctx.move_to(0, 0)\n",
    "ctx.line_to(1, 1)\n",
    "ctx.move_to(1, 0)\n",
    "ctx.line_to(0, 1)\n",
    "ctx.set_line_width(0.2)\n",
    "ctx.stroke()\n",
    "\n",
    "ctx.pop_group_to_source()\n",
    "ctx.restore()\n",
    "\n",
    "surface.finish()\n"
   ]
  },
  {
   "cell_type": "code",
   "execution_count": 23,
   "metadata": {},
   "outputs": [],
   "source": [
    "def do_something(ctx:cairo.Context):\n",
    "    \n",
    "    pass"
   ]
  }
 ],
 "metadata": {
  "kernelspec": {
   "display_name": "Python 3",
   "language": "python",
   "name": "python3"
  },
  "language_info": {
   "codemirror_mode": {
    "name": "ipython",
    "version": 3
   },
   "file_extension": ".py",
   "mimetype": "text/x-python",
   "name": "python",
   "nbconvert_exporter": "python",
   "pygments_lexer": "ipython3",
   "version": "3.9.10"
  }
 },
 "nbformat": 4,
 "nbformat_minor": 2
}
